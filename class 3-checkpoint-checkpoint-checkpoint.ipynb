{
 "cells": [
  {
   "cell_type": "code",
   "execution_count": 7,
   "id": "6cc98843",
   "metadata": {},
   "outputs": [],
   "source": [
    "a = \"ashavasudevan\""
   ]
  },
  {
   "cell_type": "code",
   "execution_count": 2,
   "id": "fbbbab13",
   "metadata": {},
   "outputs": [
    {
     "name": "stdout",
     "output_type": "stream",
     "text": [
      "['', 'sh', 'v', 'sudev', 'n']\n",
      "['', 'shavasudevan']\n"
     ]
    }
   ],
   "source": [
    "print(a.split(\"a\"))    -----## splitting fn \n",
    "print(a.split(\"a\",1)) ------## skips the 1st \"a\" in the variable"
   ]
  },
  {
   "cell_type": "code",
   "execution_count": 3,
   "id": "d13ec21e",
   "metadata": {},
   "outputs": [
    {
     "name": "stdout",
     "output_type": "stream",
     "text": [
      "sshsvssudevsn\n",
      "sshavasudevan\n"
     ]
    }
   ],
   "source": [
    "print(a.replace(\"a\", \"s\"))  ------ ## replace fn (replaces whole)\n",
    "print(a.replace(\"a\", \"s\",1)) ----- ## replace the 1st value"
   ]
  },
  {
   "cell_type": "code",
   "execution_count": 4,
   "id": "7caa6231",
   "metadata": {},
   "outputs": [
    {
     "name": "stdout",
     "output_type": "stream",
     "text": [
      "2\n",
      "4\n"
     ]
    }
   ],
   "source": [
    "print(a.count(\"s\")) ----- ## count fn > fetches the allocated values place \n",
    "print(a.count(\"a\"))"
   ]
  },
  {
   "cell_type": "code",
   "execution_count": 11,
   "id": "b5fb54c2",
   "metadata": {},
   "outputs": [],
   "source": [
    "a = \"123\"\n",
    "b = 123"
   ]
  },
  {
   "cell_type": "code",
   "execution_count": 9,
   "id": "61bc4e53",
   "metadata": {},
   "outputs": [
    {
     "name": "stdout",
     "output_type": "stream",
     "text": [
      "<class 'str'>\n"
     ]
    }
   ],
   "source": [
    "print(type(a)) ---- ## values comes in \"\" comes as string"
   ]
  },
  {
   "cell_type": "code",
   "execution_count": 10,
   "id": "33bb3d73",
   "metadata": {},
   "outputs": [
    {
     "name": "stdout",
     "output_type": "stream",
     "text": [
      "<class 'int'>\n"
     ]
    }
   ],
   "source": [
    "print(type(b))"
   ]
  },
  {
   "cell_type": "code",
   "execution_count": 13,
   "id": "2cc4cd93",
   "metadata": {},
   "outputs": [
    {
     "name": "stdout",
     "output_type": "stream",
     "text": [
      "123\n",
      "<class 'str'>\n"
     ]
    }
   ],
   "source": [
    "a = \"123\"\n",
    "c = int(a) -----## converting string to integer\n",
    "print(a)\n",
    "print(type(a))"
   ]
  },
  {
   "cell_type": "code",
   "execution_count": 15,
   "id": "f4fc2993",
   "metadata": {},
   "outputs": [
    {
     "name": "stdout",
     "output_type": "stream",
     "text": [
      "123.0\n"
     ]
    }
   ],
   "source": [
    "a = float(a)\n",
    "b = float(a) ------- ## uses for deciamal fn\n",
    "print(b)"
   ]
  },
  {
   "cell_type": "code",
   "execution_count": 26,
   "id": "5de4be12",
   "metadata": {},
   "outputs": [],
   "source": [
    "a = [[\"arun\", 28 ,\"chennai\"],[\"pranav\",\"28\",\"vadapalani\"]] "
   ]
  },
  {
   "cell_type": "code",
   "execution_count": 27,
   "id": "3234c59b",
   "metadata": {},
   "outputs": [],
   "source": [
    "## type , isinstance , min , max , sorted , length , reverse ---------- a = [\"arun\",\"28\",\"chennai\"]"
   ]
  },
  {
   "cell_type": "code",
   "execution_count": 41,
   "id": "ae326428",
   "metadata": {},
   "outputs": [],
   "source": [
    "a = [\"arun\", \"28\" ,\"chennai\"]"
   ]
  },
  {
   "cell_type": "code",
   "execution_count": 42,
   "id": "d1fbace0",
   "metadata": {},
   "outputs": [
    {
     "name": "stdout",
     "output_type": "stream",
     "text": [
      "chennai\n"
     ]
    }
   ],
   "source": [
    "print(max(a))"
   ]
  },
  {
   "cell_type": "code",
   "execution_count": 43,
   "id": "d7c59f70",
   "metadata": {},
   "outputs": [
    {
     "name": "stdout",
     "output_type": "stream",
     "text": [
      "28\n"
     ]
    }
   ],
   "source": [
    "print(min(a))"
   ]
  },
  {
   "cell_type": "code",
   "execution_count": 44,
   "id": "c07fc5bf",
   "metadata": {},
   "outputs": [
    {
     "name": "stdout",
     "output_type": "stream",
     "text": [
      "False\n"
     ]
    }
   ],
   "source": [
    "print(isinstance(a,str))"
   ]
  },
  {
   "cell_type": "code",
   "execution_count": 45,
   "id": "8ddc2727",
   "metadata": {},
   "outputs": [
    {
     "name": "stdout",
     "output_type": "stream",
     "text": [
      "['28', 'arun', 'chennai']\n"
     ]
    }
   ],
   "source": [
    "print(sorted(a))"
   ]
  },
  {
   "cell_type": "code",
   "execution_count": 46,
   "id": "3b535c6d",
   "metadata": {},
   "outputs": [
    {
     "name": "stdout",
     "output_type": "stream",
     "text": [
      "3\n"
     ]
    }
   ],
   "source": [
    "print(len(a))"
   ]
  },
  {
   "cell_type": "code",
   "execution_count": 47,
   "id": "aec76306",
   "metadata": {},
   "outputs": [
    {
     "name": "stdout",
     "output_type": "stream",
     "text": [
      "True\n"
     ]
    }
   ],
   "source": [
    "print(isinstance(a,list))"
   ]
  },
  {
   "cell_type": "code",
   "execution_count": 51,
   "id": "80dcf667",
   "metadata": {},
   "outputs": [
    {
     "name": "stdout",
     "output_type": "stream",
     "text": [
      "arun\n"
     ]
    }
   ],
   "source": [
    "print(a[0])  ------## fetches 1st value"
   ]
  },
  {
   "cell_type": "code",
   "execution_count": 52,
   "id": "e0d890b7",
   "metadata": {},
   "outputs": [
    {
     "name": "stdout",
     "output_type": "stream",
     "text": [
      "['arun', '28', 'chennai']\n"
     ]
    }
   ],
   "source": [
    "print(a)"
   ]
  },
  {
   "cell_type": "code",
   "execution_count": 54,
   "id": "45e23717",
   "metadata": {},
   "outputs": [
    {
     "name": "stdout",
     "output_type": "stream",
     "text": [
      "['arun', '28', 'chennai', 'test', 'test']\n"
     ]
    }
   ],
   "source": [
    "a.append(\"test\") -------  ## which adds values in last\n",
    "print(a)"
   ]
  },
  {
   "cell_type": "code",
   "execution_count": 55,
   "id": "a9532df7",
   "metadata": {},
   "outputs": [
    {
     "name": "stdout",
     "output_type": "stream",
     "text": [
      "['arun', '28', 'chennai', 'test']\n"
     ]
    }
   ],
   "source": [
    "a.remove(\"test\")  ------- ## which removes value\n",
    "print(a)"
   ]
  },
  {
   "cell_type": "code",
   "execution_count": 56,
   "id": "24cb48a7",
   "metadata": {},
   "outputs": [
    {
     "name": "stdout",
     "output_type": "stream",
     "text": [
      "['arun', '28', 'test']\n"
     ]
    }
   ],
   "source": [
    "del a[2] ------ ## deletes 2nd syntax\n",
    "print(a)"
   ]
  },
  {
   "cell_type": "code",
   "execution_count": 1,
   "id": "79a0fd1f",
   "metadata": {},
   "outputs": [],
   "source": [
    "a = \"ashav@gmail.com\"\n",
    "## test\n",
    "## gmail --- output\n",
    "\n",
    "a = [\"dinesh\",\"chennai\",\"tamilnadu\"]\n",
    "## find i\n",
    "\n",
    "a = \"Dhoni\" ## find last letter without using reverse syntax\n"
   ]
  },
  {
   "cell_type": "code",
   "execution_count": 20,
   "id": "f8bcde93",
   "metadata": {},
   "outputs": [
    {
     "name": "stdout",
     "output_type": "stream",
     "text": [
      "['ashav', 'gmail.com']\n"
     ]
    }
   ],
   "source": [
    "a = \"ashav@gmail.com\"\n",
    "print(a.split(\"@\"))"
   ]
  },
  {
   "cell_type": "code",
   "execution_count": 22,
   "id": "4612ca59",
   "metadata": {},
   "outputs": [
    {
     "name": "stdout",
     "output_type": "stream",
     "text": [
      "['hi', 'hello']\n",
      "yes\n"
     ]
    }
   ],
   "source": [
    "a = [\"hi\",\"hello\",\"yes\"]\n",
    "b = a.pop()\n",
    "print(a)\n",
    "print(b)"
   ]
  },
  {
   "cell_type": "code",
   "execution_count": 23,
   "id": "166debe2",
   "metadata": {},
   "outputs": [],
   "source": [
    "## shal low -----> shared memory "
   ]
  },
  {
   "cell_type": "code",
   "execution_count": 29,
   "id": "e77471cb",
   "metadata": {},
   "outputs": [
    {
     "name": "stdout",
     "output_type": "stream",
     "text": [
      "[1, 2, 3, 4]\n",
      "[1, 2, 3, 4]\n"
     ]
    }
   ],
   "source": [
    "a = [1,2,3]\n",
    "b = a\n",
    "a.append(4)  ------> adds the values in last\n",
    "print(a)\n",
    "print(b)"
   ]
  },
  {
   "cell_type": "code",
   "execution_count": 25,
   "id": "891e855a",
   "metadata": {},
   "outputs": [],
   "source": [
    "## deep ------> direct memory"
   ]
  },
  {
   "cell_type": "code",
   "execution_count": 30,
   "id": "9feeb5d7",
   "metadata": {},
   "outputs": [
    {
     "name": "stdout",
     "output_type": "stream",
     "text": [
      "[1, 2, 3, 4]\n",
      "[1, 2, 3]\n"
     ]
    }
   ],
   "source": [
    "a = [1,2,3]\n",
    "b = a.copy() -----> dosen't copy the values of a\n",
    "a.append(4)\n",
    "print(a)\n",
    "print(b)"
   ]
  },
  {
   "cell_type": "code",
   "execution_count": 31,
   "id": "634b3e57",
   "metadata": {},
   "outputs": [
    {
     "name": "stdout",
     "output_type": "stream",
     "text": [
      "0\n"
     ]
    }
   ],
   "source": [
    "a = [\"hi\",\"hello\",\"yes\"]\n",
    "print(a.index(\"hi\"))"
   ]
  },
  {
   "cell_type": "code",
   "execution_count": 34,
   "id": "5110e665",
   "metadata": {},
   "outputs": [
    {
     "name": "stdout",
     "output_type": "stream",
     "text": [
      "0\n"
     ]
    }
   ],
   "source": [
    "print(a.find(\"hi\")) ------> In index find , rindex dosen't works"
   ]
  },
  {
   "cell_type": "code",
   "execution_count": 35,
   "id": "f31dfae4",
   "metadata": {},
   "outputs": [],
   "source": [
    "a = (\"hi\",\"hello\",\"yes\")\n",
    "##  type , isinstance , min , max , sorted , a(0)"
   ]
  },
  {
   "cell_type": "code",
   "execution_count": 39,
   "id": "10e14e20",
   "metadata": {},
   "outputs": [
    {
     "name": "stdout",
     "output_type": "stream",
     "text": [
      "<class 'tuple'>\n",
      "False\n",
      "yes\n",
      "hi\n"
     ]
    }
   ],
   "source": [
    "print(type(a))      --------\n",
    "print(isinstance(a,str)) --------\n",
    "print(max(a))         -------- \n",
    "print(a[0])     --------"
   ]
  },
  {
   "cell_type": "code",
   "execution_count": 46,
   "id": "354f6256",
   "metadata": {},
   "outputs": [
    {
     "name": "stdout",
     "output_type": "stream",
     "text": [
      "hello\n"
     ]
    },
    {
     "data": {
      "text/plain": [
       "'hi'"
      ]
     },
     "execution_count": 46,
     "metadata": {},
     "output_type": "execute_result"
    }
   ],
   "source": [
    "print(min(a))\n",
    "a[0] ------------------- difference btw list and tupple - tupple cannot be changed as like list\n",
    "                        list is mutual and tupple is imutual"
   ]
  },
  {
   "cell_type": "code",
   "execution_count": 47,
   "id": "32a3dbda",
   "metadata": {},
   "outputs": [
    {
     "name": "stdout",
     "output_type": "stream",
     "text": [
      "{1, 2, 3}\n"
     ]
    }
   ],
   "source": [
    "##  SET {} ------> which will remove duplicate \n",
    "\n",
    "a={1,2,3,1,2,3,1,2,3} ------------> set removes duplicates\n",
    "print(a)"
   ]
  },
  {
   "cell_type": "code",
   "execution_count": 48,
   "id": "e432de6d",
   "metadata": {},
   "outputs": [],
   "source": [
    "a = {1,2,3,1,2,3,1,2,3} \n",
    "b = {4,3,5,2,1}"
   ]
  },
  {
   "cell_type": "code",
   "execution_count": 51,
   "id": "2b3bb9fa",
   "metadata": {},
   "outputs": [
    {
     "name": "stdout",
     "output_type": "stream",
     "text": [
      "{1, 2, 3, 4, 5}\n",
      "{1, 2, 3}\n",
      "set()\n",
      "{4, 5}\n"
     ]
    }
   ],
   "source": [
    "print(a.union(b)) ------------- union the values of both a & b\n",
    "print(a.intersection(b)) -------------  find the values of a & b\n",
    "print(a.difference(b)) ------------- finds the difference a in b \n",
    "print(b.difference(a)) ------------- finds the difference b in a"
   ]
  },
  {
   "cell_type": "code",
   "execution_count": 52,
   "id": "c887bd96",
   "metadata": {},
   "outputs": [],
   "source": [
    "a = {1,2,3}\n",
    "b = {1,2,3,4,5}"
   ]
  },
  {
   "cell_type": "code",
   "execution_count": 55,
   "id": "d7385220",
   "metadata": {},
   "outputs": [
    {
     "name": "stdout",
     "output_type": "stream",
     "text": [
      "True\n",
      "False\n",
      "False\n",
      "False\n"
     ]
    }
   ],
   "source": [
    "print(a.issubset(b)) ------------ finds the subset value\n",
    "print(b.issubset(a))\n",
    "print(a.issuperset(b)) \n",
    "print(a.issuperset(b))\n",
    "a.add(4)------> adding the value in a\n",
    "a.remove(2) ------> remove ()"
   ]
  },
  {
   "cell_type": "code",
   "execution_count": null,
   "id": "ce8c969e",
   "metadata": {},
   "outputs": [],
   "source": []
  }
 ],
 "metadata": {
  "kernelspec": {
   "display_name": "Python 3 (ipykernel)",
   "language": "python",
   "name": "python3"
  },
  "language_info": {
   "codemirror_mode": {
    "name": "ipython",
    "version": 3
   },
   "file_extension": ".py",
   "mimetype": "text/x-python",
   "name": "python",
   "nbconvert_exporter": "python",
   "pygments_lexer": "ipython3",
   "version": "3.10.9"
  }
 },
 "nbformat": 4,
 "nbformat_minor": 5
}
